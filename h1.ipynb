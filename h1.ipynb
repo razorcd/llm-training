{
 "cells": [
  {
   "cell_type": "code",
   "execution_count": 2,
   "id": "75465ae1-d5ed-4a9f-a4e4-efebfa838740",
   "metadata": {},
   "outputs": [],
   "source": [
    "import openai\n",
    "from openai import OpenAI"
   ]
  },
  {
   "cell_type": "code",
   "execution_count": 15,
   "id": "b8b19463-ccf1-40e4-8abb-ecb4f04bd684",
   "metadata": {},
   "outputs": [],
   "source": [
    "openai_api_key = \"sk-proj-xxxxxxxxxxx\"\n",
    "client = OpenAI(api_key=openai_api_key)"
   ]
  },
  {
   "cell_type": "code",
   "execution_count": 19,
   "id": "bc26b295-30a9-408f-b26c-46718a3b9be0",
   "metadata": {},
   "outputs": [
    {
     "data": {
      "text/plain": [
       "\"I'm sorry, but I would need more information to help answer that question. Could you provide more details about the course you're considering, such as the start date, enrollment deadlines, or specific policies regarding late enrollment? This would allow me to give you a more informed response.\""
      ]
     },
     "execution_count": 19,
     "metadata": {},
     "output_type": "execute_result"
    }
   ],
   "source": [
    "response = client.chat.completions.create(\n",
    "    model='gpt-4o',\n",
    "    messages=[{\"role\":\"user\", \"content\": \"is it too late to join the course?\"}]\n",
    ")\n",
    "response.choices[0].message.content"
   ]
  }
 ],
 "metadata": {
  "kernelspec": {
   "display_name": "Python 3 (ipykernel)",
   "language": "python",
   "name": "python3"
  },
  "language_info": {
   "codemirror_mode": {
    "name": "ipython",
    "version": 3
   },
   "file_extension": ".py",
   "mimetype": "text/x-python",
   "name": "python",
   "nbconvert_exporter": "python",
   "pygments_lexer": "ipython3",
   "version": "3.12.1"
  }
 },
 "nbformat": 4,
 "nbformat_minor": 5
}
