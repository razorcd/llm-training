{
 "cells": [
  {
   "cell_type": "code",
   "execution_count": 1,
   "id": "75465ae1-d5ed-4a9f-a4e4-efebfa838740",
   "metadata": {},
   "outputs": [],
   "source": [
    "import openai\n",
    "from openai import OpenAI"
   ]
  },
  {
   "cell_type": "code",
   "execution_count": 3,
   "id": "b8b19463-ccf1-40e4-8abb-ecb4f04bd684",
   "metadata": {},
   "outputs": [],
   "source": [
    "openai_api_key = \"sk-proj-zzz\"\n",
    "client = OpenAI(api_key=openai_api_key)"
   ]
  },
  {
   "cell_type": "code",
   "execution_count": 4,
   "id": "bc26b295-30a9-408f-b26c-46718a3b9be0",
   "metadata": {},
   "outputs": [
    {
     "data": {
      "text/plain": [
       "\"It's difficult to provide a specific answer without additional context. The timing for joining a course depends on several factors, such as the course start date, enrollment deadlines, and any prerequisites that need to be completed. Here are a few steps you can take:\\n\\n1. **Check the Enrollment Deadline**: Look up the course's official website or contact the institution offering the course to find out if enrollment is still open.\\n\\n2. **Contact the Instructor or Institution**: If the enrollment deadline has passed, reach out directly to ask if they make exceptions or have late registration options.\\n\\n3. **Consider Course Alternatives**: If it’s too late for this session, inquire about future offerings of the course or see if there are similar courses available that fit your schedule.\\n\\n4. **Assess your Readiness**: Even if late enrollment is possible, make sure you have enough time and resources to catch up on any material you might have missed.\\n\\nTaking these steps can provide clarity on your options for joining the course.\""
      ]
     },
     "execution_count": 4,
     "metadata": {},
     "output_type": "execute_result"
    }
   ],
   "source": [
    "response = client.chat.completions.create(\n",
    "    model='gpt-4o',\n",
    "    messages=[{\"role\":\"user\", \"content\": \"is it too late to join the course?\"}]\n",
    ")\n",
    "response.choices[0].message.content"
   ]
  },
  {
   "cell_type": "code",
   "execution_count": 11,
   "id": "0c22f3c6-25b2-4c26-940a-65fe3861478a",
   "metadata": {},
   "outputs": [
    {
     "data": {
      "text/plain": [
       "[{'question': 'How do I join the course after it has started?',\n",
       "  'text': 'You can join the course at any time. We have recordings available.',\n",
       "  'section': 'General Information',\n",
       "  'course': 'data-engineering-zoomcamp'},\n",
       " {'question': 'What are the prerequisites for the course?',\n",
       "  'text': 'You need to have basic knowledge of programming.',\n",
       "  'section': 'Course Requirements',\n",
       "  'course': 'data-engineering-zoomcamp'},\n",
       " {'question': 'What are the prerequisites for the course?',\n",
       "  'text': 'You need to have basic knowledge of programming.',\n",
       "  'section': 'Course Requirements',\n",
       "  'course': 'data-engineering-zoomcamp'},\n",
       " {'question': 'What are the prerequisites for the course?',\n",
       "  'text': 'You need to have basic knowledge of programming.',\n",
       "  'section': 'Course Requirements',\n",
       "  'course': 'data-engineering-zoomcamp'},\n",
       " {'question': 'What are the prerequisites for the course?',\n",
       "  'text': 'You need to have basic knowledge of programming.',\n",
       "  'section': 'Course Requirements',\n",
       "  'course': 'data-engineering-zoomcamp'},\n",
       " {'question': 'What are the prerequisites for the course?',\n",
       "  'text': 'You need to have basic knowledge of programming.',\n",
       "  'section': 'Course Requirements',\n",
       "  'course': 'data-engineering-zoomcamp'},\n",
       " {'question': 'What are the prerequisites for the course?',\n",
       "  'text': 'You need to have basic knowledge of programming.',\n",
       "  'section': 'Course Requirements',\n",
       "  'course': 'data-engineering-zoomcamp'},\n",
       " {'question': 'What are the prerequisites for the course?',\n",
       "  'text': 'You need to have basic knowledge of programming.',\n",
       "  'section': 'Course Requirements',\n",
       "  'course': 'data-engineering-zoomcamp'},\n",
       " {'question': 'What are the prerequisites for the course?',\n",
       "  'text': 'You need to have basic knowledge of programming.',\n",
       "  'section': 'Course Requirements',\n",
       "  'course': 'data-engineering-zoomcamp'},\n",
       " {'question': 'What are the prerequisites for the course?',\n",
       "  'text': 'You need to have basic knowledge of programming.',\n",
       "  'section': 'Course Requirements',\n",
       "  'course': 'data-engineering-zoomcamp'}]"
      ]
     },
     "execution_count": 11,
     "metadata": {},
     "output_type": "execute_result"
    }
   ],
   "source": [
    "from minsearch import Index\n",
    "\n",
    "# Create documents\n",
    "docs = [\n",
    "    {\n",
    "        \"question\": \"How do I join the course after it has started?\",\n",
    "        \"text\": \"You can join the course at any time. We have recordings available.\",\n",
    "        \"section\": \"General Information\",\n",
    "        \"course\": \"data-engineering-zoomcamp\"\n",
    "    },\n",
    "    {\n",
    "        \"question\": \"What are the prerequisites for the course?\",\n",
    "        \"text\": \"You need to have basic knowledge of programming.\",\n",
    "        \"section\": \"Course Requirements\",\n",
    "        \"course\": \"data-engineering-zoomcamp\"\n",
    "    },\n",
    "        {\n",
    "        \"question\": \"What are the prerequisites for the course?\",\n",
    "        \"text\": \"You need to have basic knowledge of programming.\",\n",
    "        \"section\": \"Course Requirements\",\n",
    "        \"course\": \"data-engineering-zoomcamp\"\n",
    "    },\n",
    "        {\n",
    "        \"question\": \"What are the prerequisites for the course?\",\n",
    "        \"text\": \"You need to have basic knowledge of programming.\",\n",
    "        \"section\": \"Course Requirements\",\n",
    "        \"course\": \"data-engineering-zoomcamp\"\n",
    "    },\n",
    "        {\n",
    "        \"question\": \"What are the prerequisites for the course?\",\n",
    "        \"text\": \"You need to have basic knowledge of programming.\",\n",
    "        \"section\": \"Course Requirements\",\n",
    "        \"course\": \"data-engineering-zoomcamp\"\n",
    "    },\n",
    "        {\n",
    "        \"question\": \"What are the prerequisites for the course?\",\n",
    "        \"text\": \"You need to have basic knowledge of programming.\",\n",
    "        \"section\": \"Course Requirements\",\n",
    "        \"course\": \"data-engineering-zoomcamp\"\n",
    "    },\n",
    "        {\n",
    "        \"question\": \"What are the prerequisites for the course?\",\n",
    "        \"text\": \"You need to have basic knowledge of programming.\",\n",
    "        \"section\": \"Course Requirements\",\n",
    "        \"course\": \"data-engineering-zoomcamp\"\n",
    "    },\n",
    "        {\n",
    "        \"question\": \"What are the prerequisites for the course?\",\n",
    "        \"text\": \"You need to have basic knowledge of programming.\",\n",
    "        \"section\": \"Course Requirements\",\n",
    "        \"course\": \"data-engineering-zoomcamp\"\n",
    "    },\n",
    "        {\n",
    "        \"question\": \"What are the prerequisites for the course?\",\n",
    "        \"text\": \"You need to have basic knowledge of programming.\",\n",
    "        \"section\": \"Course Requirements\",\n",
    "        \"course\": \"data-engineering-zoomcamp\"\n",
    "    },\n",
    "        {\n",
    "        \"question\": \"What are the prerequisites for the course?\",\n",
    "        \"text\": \"You need to have basic knowledge of programming.\",\n",
    "        \"section\": \"Course Requirements\",\n",
    "        \"course\": \"data-engineering-zoomcamp\"\n",
    "    }\n",
    "]\n",
    "\n",
    "# Create and fit the index\n",
    "index = Index(\n",
    "    text_fields=[\"question\", \"text\", \"section\"],\n",
    "    keyword_fields=[\"course\"]\n",
    ")\n",
    "index.fit(docs)\n",
    "\n",
    "# Search with filters and boosts\n",
    "query = \"Can I join the course if it has already started?\"\n",
    "filter_dict = {\"course\": \"data-engineering-zoomcamp\"}\n",
    "boost_dict = {\"question\": 3, \"text\": 1, \"section\": 1}\n",
    "\n",
    "results = index.search(query, filter_dict=filter_dict, boost_dict=boost_dict)\n",
    "results"
   ]
  }
 ],
 "metadata": {
  "kernelspec": {
   "display_name": "Python 3 (ipykernel)",
   "language": "python",
   "name": "python3"
  },
  "language_info": {
   "codemirror_mode": {
    "name": "ipython",
    "version": 3
   },
   "file_extension": ".py",
   "mimetype": "text/x-python",
   "name": "python",
   "nbconvert_exporter": "python",
   "pygments_lexer": "ipython3",
   "version": "3.12.1"
  }
 },
 "nbformat": 4,
 "nbformat_minor": 5
}
