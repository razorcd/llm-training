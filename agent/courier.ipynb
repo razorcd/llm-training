{
 "cells": [
  {
   "cell_type": "code",
   "execution_count": 1,
   "id": "1eb4ecc1-9b5e-47d4-b580-44e06da361c0",
   "metadata": {},
   "outputs": [],
   "source": [
    "from openai import OpenAI\n",
    "#temp key:\n",
    "openai_api_key = \"sk-proj-\"\n",
    "client = OpenAI(api_key=openai_api_key)"
   ]
  },
  {
   "cell_type": "code",
   "execution_count": 27,
   "id": "913340b0-59a8-439e-ba8d-1293212905fc",
   "metadata": {},
   "outputs": [
    {
     "name": "stdin",
     "output_type": "stream",
     "text": [
      " who am i\n"
     ]
    },
    {
     "name": "stdout",
     "output_type": "stream",
     "text": [
      "function_call: ResponseFunctionToolCall(arguments='{}', call_id='call_Zazzxq4GJtrjNkAMWOprQVU4', name='get_courier_profile', type='function_call', id='fc_687992981f64819c90d3a95d2b6570a302797d7ad391bc94', status='completed')\n",
      "\n",
      "You are John Doe, born on November 5, 1995. You primarily use a car for your deliveries. Your work shifts are as follows:\n",
      "\n",
      "- **Monday**: 8 AM to 12 PM\n",
      "- **Wednesday**: 12 PM to 6 PM\n",
      "- **Friday**: 10 AM to 3 PM\n",
      "\n",
      "Would you like to update any of your profile details or work shifts?\n",
      "\n"
     ]
    },
    {
     "name": "stdin",
     "output_type": "stream",
     "text": [
      " my first name is Tom \n"
     ]
    },
    {
     "name": "stdout",
     "output_type": "stream",
     "text": [
      "function_call: ResponseFunctionToolCall(arguments='{\"first_name\":\"Tom\"}', call_id='call_D93Cb3xkGBhcmoURIavMmPck', name='update_courier_profile', type='function_call', id='fc_687992bf4bd0819ca2c77fcd6e96c64802797d7ad391bc94', status='completed')\n",
      "\n",
      "Your first name has been updated to Tom. \n",
      "\n",
      "Is there anything else you would like to change or any other assistance you need?\n",
      "\n"
     ]
    },
    {
     "name": "stdin",
     "output_type": "stream",
     "text": [
      " I don't have a driving licence\n"
     ]
    },
    {
     "name": "stdout",
     "output_type": "stream",
     "text": [
      "function_call: ResponseFunctionToolCall(arguments='{\"note\":\"Tom does not have a driving license.\"}', call_id='call_DGC9wE2YNDtC8j5DR38yNLHi', name='add_notes_about_courier', type='function_call', id='fc_687992e1d524819c96677185de0ab72e02797d7ad391bc94', status='completed')\n",
      "\n",
      "I've added a note that you do not have a driving license. \n",
      "\n",
      "Do you wish to change your vehicle type or need assistance with anything else?\n",
      "\n"
     ]
    },
    {
     "name": "stdin",
     "output_type": "stream",
     "text": [
      " i don't want to use a car\n"
     ]
    },
    {
     "name": "stdout",
     "output_type": "stream",
     "text": [
      "function_call: ResponseFunctionToolCall(arguments='{\"vehicle_type\":\"bike\"}', call_id='call_vDhq94Avv92Mu7CrOPAGkL6x', name='update_courier_profile', type='function_call', id='fc_687992f85d7c819caac9e6e538943dea02797d7ad391bc94', status='completed')\n",
      "\n",
      "Your vehicle type has been updated to a bike. \n",
      "\n",
      "Is there anything else you'd like to adjust or any other questions you have?\n",
      "\n"
     ]
    },
    {
     "name": "stdin",
     "output_type": "stream",
     "text": [
      " I feel like working Sunday morning to evening\n"
     ]
    },
    {
     "name": "stdout",
     "output_type": "stream",
     "text": [
      "function_call: ResponseFunctionToolCall(arguments='{\"day_of_week\":\"sunday\",\"from_hour\":8,\"to_hour\":18}', call_id='call_h23HdknbaEBZWlTBewkUyoYC', name='update_courier_work_shifts', type='function_call', id='fc_6879931d4308819cbd9f0a5ef6742af902797d7ad391bc94', status='completed')\n",
      "\n",
      "Your work shift has been set for Sunday from 8 AM to 6 PM. \n",
      "\n",
      "Would you like to make any other changes or ask about something else?\n",
      "\n"
     ]
    },
    {
     "name": "stdin",
     "output_type": "stream",
     "text": [
      " i am alergic to milk\n"
     ]
    },
    {
     "name": "stdout",
     "output_type": "stream",
     "text": [
      "function_call: ResponseFunctionToolCall(arguments='{\"note\":\"Tom is allergic to milk.\"}', call_id='call_iOwj8UDjPdvw9B7zj0kYF901', name='add_notes_about_courier', type='function_call', id='fc_68799331b0fc819c8a83779551da068202797d7ad391bc94', status='completed')\n",
      "\n",
      "I've added a note indicating that you are allergic to milk. \n",
      "\n",
      "Is there anything else you’d like to share or any other assistance you need?\n",
      "\n"
     ]
    },
    {
     "name": "stdin",
     "output_type": "stream",
     "text": [
      " who am I\n"
     ]
    },
    {
     "name": "stdout",
     "output_type": "stream",
     "text": [
      "function_call: ResponseFunctionToolCall(arguments='{}', call_id='call_6RHO8SLeNbM1GTynfz9nenLd', name='get_courier_profile', type='function_call', id='fc_6879933c8ab4819cb1a84bd3cc49f22f02797d7ad391bc94', status='completed')\n",
      "\n",
      "You are Tom Doe, born on November 5, 1995. You use a bike for your deliveries. Your current work shifts are:\n",
      "\n",
      "- **Monday**: 8 AM to 12 PM\n",
      "- **Wednesday**: 12 PM to 6 PM\n",
      "- **Friday**: 10 AM to 3 PM\n",
      "- **Sunday**: 8 AM to 6 PM\n",
      "\n",
      "Additionally, you do not have a driving license and are allergic to milk.\n",
      "\n",
      "Is there anything else you would like to discuss or change?\n",
      "\n"
     ]
    },
    {
     "name": "stdin",
     "output_type": "stream",
     "text": [
      " I was born exactly 20 years ago\n"
     ]
    },
    {
     "name": "stdout",
     "output_type": "stream",
     "text": [
      "function_call: ResponseFunctionToolCall(arguments='{\"date_of_birth\":\"2005-07-18\"}', call_id='call_LiupppEdQaY8Hn78tvAu0FGE', name='update_courier_profile', type='function_call', id='fc_6879938066f8819cb160c24f6c7049a602797d7ad391bc94', status='completed')\n",
      "\n",
      "Your date of birth has been updated to July 18, 2005. \n",
      "\n",
      "Is there anything else you would like to update or any other questions you have?\n",
      "\n"
     ]
    },
    {
     "name": "stdin",
     "output_type": "stream",
     "text": [
      " stop\n"
     ]
    }
   ],
   "source": [
    "import json\n",
    "from datetime import datetime\n",
    "\n",
    "\n",
    "def do_call(tool_call_response):\n",
    "    function_name = tool_call_response.name\n",
    "    arguments = json.loads(tool_call_response.arguments)\n",
    "\n",
    "    f = globals()[function_name]\n",
    "    result = f(**arguments)\n",
    "\n",
    "    return {\n",
    "        \"type\": \"function_call_output\",\n",
    "        \"call_id\": tool_call_response.call_id,\n",
    "        \"output\": json.dumps(result, indent=2),\n",
    "    }\n",
    "\n",
    "\n",
    "developer_prompt = f\"\"\"\n",
    "You're an asistant of a courier in a food delivery company. Today is ${str(datetime.now())}.\n",
    "You're given a question from a courier and your task is to answer it. \n",
    "\n",
    "Use FAQ if your own knowledge is not sufficient to answer the question.\n",
    "When using FAQ, perform deep topic exploration: make one request to FAQ,\n",
    "and then based on the results, make more requests.\n",
    "\n",
    "At the end of each response, ask the user a follow up question based on your answer.\n",
    "\"\"\".strip()\n",
    "\n",
    "chat_messages = [\n",
    "    {\"role\": \"developer\", \"content\": developer_prompt},\n",
    "]\n",
    "\n",
    "\n",
    "known_courier_data = {\n",
    "    'first_name': \"John\",\n",
    "    'last_name': \"Doe\",\n",
    "    'date_of_birth': \"05.11.1995\",\n",
    "    'vehicle_type': \"Car\",\n",
    "    'work_shifts': {\n",
    "        'monday': {'from_hour': 8, 'to_hour': 12},\n",
    "        'wednesday': {'from_hour': 12, 'to_hour': 18},\n",
    "        'friday': {'from_hour': 10, 'to_hour': 15}\n",
    "    },\n",
    "    'notes': [\n",
    "    ]\n",
    "}\n",
    "\n",
    "\n",
    "def get_courier_profile() -> dict:\n",
    "    return known_courier_data\n",
    "\n",
    "def update_courier_profile(first_name:str = None, last_name:str = None, date_of_birth:str = None, vehicle_type:str = None) -> None:\n",
    "    if (first_name != None): known_courier_data['first_name'] = first_name.strip()\n",
    "    if (last_name != None): known_courier_data['last_name'] = last_name.strip()\n",
    "    if (date_of_birth != None): known_courier_data['date_of_birth'] = date_of_birth.strip().lower()\n",
    "    if (vehicle_type != None): known_courier_data['vehicle_type'] = vehicle_type.strip().lower()    \n",
    "    return 'OK'\n",
    "\n",
    "def update_courier_work_shifts(day_of_week:str = None, from_hour:int = None, to_hour:int = None) -> None:\n",
    "    known_courier_data['work_shifts'][day_of_week.strip().lower()] = {'from_hour': from_hour, 'to_hour': to_hour}\n",
    "    return 'OK'\n",
    "\n",
    "def add_notes_about_courier(note:str) -> None:\n",
    "    known_courier_data['notes'].append(note.strip())\n",
    "    return 'OK'\n",
    "\n",
    "# def get_time_and_date() -> str:\n",
    "#     return str(datetime.now())\n",
    "\n",
    "set_courier_first_name_tool = {\n",
    "    \"type\": \"function\",\n",
    "    \"name\": \"update_courier_profile\",\n",
    "    \"description\": \"Update courier profile.\",\n",
    "    \"parameters\": {\n",
    "        \"type\": \"object\",\n",
    "        \"properties\": {\n",
    "            \"first_name\": {\n",
    "                \"type\": \"string\",\n",
    "                \"description\": \"The first name of the courier.\"\n",
    "            },\n",
    "            \"last_name\": {\n",
    "                \"type\": \"string\",\n",
    "                \"description\": \"The last name of the courier.\"\n",
    "            },\n",
    "            \"date_of_birth\": {\n",
    "                \"type\": \"string\",\n",
    "                \"description\": \"The date of birth of the courier in following format YYYY-MM-DD.\"\n",
    "            },\n",
    "            \"vehicle_type\": {\n",
    "                \"type\": \"string\",\n",
    "                \"description\": \"The prefered vehicle of the courier for deliveries. Can be only car or bike.\"\n",
    "            }\n",
    "        },\n",
    "        \"required\": [],\n",
    "        \"additionalProperties\": False\n",
    "    }\n",
    "}\n",
    "\n",
    "update_courier_work_shifts_tool = {\n",
    "    \"type\": \"function\",\n",
    "    \"name\": \"update_courier_work_shifts\",\n",
    "    \"description\": \"Update courier shifts.\",\n",
    "    \"parameters\": {\n",
    "        \"type\": \"object\",\n",
    "        \"properties\": {\n",
    "            \"day_of_week\": {\n",
    "                \"type\": \"string\",\n",
    "                \"description\": \"The day of the week of the courier's shift.\"\n",
    "            },\n",
    "            \"from_hour\": {\n",
    "                \"type\": \"number\",\n",
    "                \"description\": \"The hour when the courier starts.\"\n",
    "            },\n",
    "            \"to_hour\": {\n",
    "                \"type\": \"number\",\n",
    "                \"description\": \"The hour when the courier ends.\"\n",
    "            },\n",
    "        },\n",
    "        \"required\": ['day_of_week', 'from_hour', 'to_hour'],\n",
    "        \"additionalProperties\": False\n",
    "    }\n",
    "}\n",
    "\n",
    "add_courier_note_tool = {\n",
    "    \"type\": \"function\",\n",
    "    \"name\": \"add_notes_about_courier\",\n",
    "    \"description\": \"Adds additional notes to the profile of the courier.\",\n",
    "    \"parameters\": {\n",
    "        \"type\": \"object\",\n",
    "        \"properties\": {\n",
    "            \"note\": {\n",
    "                \"type\": \"string\",\n",
    "                \"description\": \"The extra information about the courier that is not yet part of the profile.\"\n",
    "            }\n",
    "        },\n",
    "        \"required\": [\"note\"],\n",
    "        \"additionalProperties\": False\n",
    "    }\n",
    "}\n",
    "\n",
    "get_courier_profile_tool = {\n",
    "    \"type\": \"function\",\n",
    "    \"name\": \"get_courier_profile\",\n",
    "    \"description\": \"Get courier profile.\",\n",
    "    \"parameters\": {\n",
    "        \"type\": \"object\",\n",
    "        \"properties\": {},\n",
    "        \"required\": [],\n",
    "        \"additionalProperties\": False\n",
    "    }\n",
    "}\n",
    "\n",
    "# get_time_and_date_tool = {\n",
    "#     \"type\": \"function\",\n",
    "#     \"name\": \"get_time_and_date\",\n",
    "#     \"description\": \"Get current time and date to have a time referance.\",\n",
    "#     \"parameters\": {\n",
    "#         \"type\": \"object\",\n",
    "#         \"properties\": {},\n",
    "#         \"required\": [],\n",
    "#         \"additionalProperties\": False\n",
    "#     }\n",
    "# }\n",
    "\n",
    "tools = [get_courier_profile_tool, set_courier_first_name_tool, update_courier_work_shifts_tool, add_courier_note_tool]\n",
    "\n",
    "while True:\n",
    "    question = input() \n",
    "    if question == 'stop':\n",
    "        break\n",
    "\n",
    "    message = {\"role\": \"user\", \"content\": question}\n",
    "    chat_messages.append(message)\n",
    "\n",
    "    while True: \n",
    "        response = client.responses.create(\n",
    "            model='gpt-4o-mini',\n",
    "            input=chat_messages,\n",
    "            tools=tools\n",
    "        )\n",
    "\n",
    "        has_messages = False\n",
    "        \n",
    "        for entry in response.output:\n",
    "            chat_messages.append(entry)\n",
    "        \n",
    "            if entry.type == 'function_call':      \n",
    "                print('function_call:', entry)\n",
    "                print()\n",
    "                result = do_call(entry)\n",
    "                chat_messages.append(result)\n",
    "            elif entry.type == 'message':\n",
    "                print(entry.content[0].text)\n",
    "                print()\n",
    "                has_messages = True\n",
    "\n",
    "        if has_messages:\n",
    "            break\n"
   ]
  },
  {
   "cell_type": "code",
   "execution_count": 28,
   "id": "8294fcc7-1045-4616-a968-092eb17c2acf",
   "metadata": {
    "scrolled": true
   },
   "outputs": [
    {
     "data": {
      "text/plain": [
       "{'first_name': 'Tom',\n",
       " 'last_name': 'Doe',\n",
       " 'date_of_birth': '2005-07-18',\n",
       " 'vehicle_type': 'bike',\n",
       " 'work_shifts': {'monday': {'from_hour': 8, 'to_hour': 12},\n",
       "  'wednesday': {'from_hour': 12, 'to_hour': 18},\n",
       "  'friday': {'from_hour': 10, 'to_hour': 15},\n",
       "  'sunday': {'from_hour': 8, 'to_hour': 18}},\n",
       " 'notes': ['Tom does not have a driving license.', 'Tom is allergic to milk.']}"
      ]
     },
     "execution_count": 28,
     "metadata": {},
     "output_type": "execute_result"
    }
   ],
   "source": [
    "known_courier_data"
   ]
  }
 ],
 "metadata": {
  "kernelspec": {
   "display_name": "Python 3 (ipykernel)",
   "language": "python",
   "name": "python3"
  },
  "language_info": {
   "codemirror_mode": {
    "name": "ipython",
    "version": 3
   },
   "file_extension": ".py",
   "mimetype": "text/x-python",
   "name": "python",
   "nbconvert_exporter": "python",
   "pygments_lexer": "ipython3",
   "version": "3.12.1"
  }
 },
 "nbformat": 4,
 "nbformat_minor": 5
}
