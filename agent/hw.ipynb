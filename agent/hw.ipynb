{
 "cells": [
  {
   "cell_type": "markdown",
   "id": "6ec58412-9e70-490b-827d-589c42254920",
   "metadata": {},
   "source": [
    "## Q1"
   ]
  },
  {
   "cell_type": "code",
   "execution_count": 25,
   "id": "ba13ce79-cdca-4877-9f98-198999560d05",
   "metadata": {},
   "outputs": [],
   "source": [
    "import random\n",
    "\n",
    "known_weather_data = {\n",
    "    'berlin': 20.0,\n",
    "    'dresden': -10.0\n",
    "}\n",
    "\n",
    "def get_weather(city: str) -> float:\n",
    "    city = city.strip().lower()\n",
    "\n",
    "    if city in known_weather_data:\n",
    "        return known_weather_data[city]\n",
    "\n",
    "    return round(random.uniform(-5, 35), 1)\n",
    "\n",
    "\n",
    "get_weather_tool = {\n",
    "    \"type\": \"function\",\n",
    "    \"name\": \"get_weather\",\n",
    "    \"description\": \"Search weather data.\",\n",
    "    \"parameters\": {\n",
    "        \"type\": \"object\",\n",
    "        \"properties\": {\n",
    "            \"city\": {\n",
    "                \"type\": \"string\",\n",
    "                \"description\": \"The city to search weather data for.\"\n",
    "            }\n",
    "        },\n",
    "        \"required\": [\"city\"],\n",
    "        \"additionalProperties\": False\n",
    "    }\n",
    "}\n"
   ]
  },
  {
   "cell_type": "code",
   "execution_count": 26,
   "id": "3c6bf37e-d6c0-4aa5-bd8f-aa6c7524d9a5",
   "metadata": {},
   "outputs": [],
   "source": [
    "# !wget https://raw.githubusercontent.com/alexeygrigorev/rag-agents-workshop/refs/heads/main/chat_assistant.py\n"
   ]
  },
  {
   "cell_type": "code",
   "execution_count": 18,
   "id": "dfb8e5ff-d50d-4b56-95d1-9ab0682073ba",
   "metadata": {},
   "outputs": [],
   "source": [
    "from openai import OpenAI\n",
    "openai_api_key = \"sk-proj-\"\n",
    "client = OpenAI(api_key=openai_api_key)"
   ]
  },
  {
   "cell_type": "code",
   "execution_count": 20,
   "id": "5b3e6f8f-3b4f-44af-8c67-5735b07cadf5",
   "metadata": {},
   "outputs": [
    {
     "name": "stdin",
     "output_type": "stream",
     "text": [
      " What is the weather in Germany?\n"
     ]
    },
    {
     "name": "stdout",
     "output_type": "stream",
     "text": [
      "function_call: ResponseFunctionToolCall(arguments='{\"city\":\"Germany\"}', call_id='call_6dZ9GPJ3bVfBXYG15hH5dvKF', name='get_weather', type='function_call', id='fc_6879692dd85c81a08f9e661ce0cdb24107c740aad782b0fe', status='completed')\n",
      "\n",
      "The current temperature in Germany is around 27.5°C. However, the weather can vary significantly across different regions. \n",
      "\n",
      "Is there a specific city or area in Germany you'd like more detailed weather information for?\n",
      "\n"
     ]
    },
    {
     "name": "stdin",
     "output_type": "stream",
     "text": [
      " What is the weather in Berlin?\n"
     ]
    },
    {
     "name": "stdout",
     "output_type": "stream",
     "text": [
      "function_call: ResponseFunctionToolCall(arguments='{\"city\":\"Berlin\"}', call_id='call_6DMXnxxmlbuycz4OkNVZb0hD', name='get_weather', type='function_call', id='fc_68796936878c81a09df901e38b3e9a1d07c740aad782b0fe', status='completed')\n",
      "\n",
      "The current temperature in Berlin is about 20.0°C. If you'd like, I can provide information on expected weather conditions, like rain or sunshine, for the day. Would that be helpful?\n",
      "\n"
     ]
    },
    {
     "name": "stdin",
     "output_type": "stream",
     "text": [
      " What is the weather in Dresden?\n"
     ]
    },
    {
     "name": "stdout",
     "output_type": "stream",
     "text": [
      "function_call: ResponseFunctionToolCall(arguments='{\"city\":\"Dresden\"}', call_id='call_cyIHXJutwXFD8jppYIsj3Eal', name='get_weather', type='function_call', id='fc_6879693f367c81a0b8a4dc53a6830d6707c740aad782b0fe', status='completed')\n",
      "\n",
      "The current temperature in Dresden is around -10.0°C, which is quite chilly! It's important to dress warmly if you're heading out.\n",
      "\n",
      "Are you interested in the forecast for the coming days or any specific activities you have planned?\n",
      "\n"
     ]
    },
    {
     "name": "stdin",
     "output_type": "stream",
     "text": [
      " stop\n"
     ]
    }
   ],
   "source": [
    "import json\n",
    "\n",
    "tools = [get_weather_tool]\n",
    "\n",
    "def do_call(tool_call_response):\n",
    "    function_name = tool_call_response.name\n",
    "    arguments = json.loads(tool_call_response.arguments)\n",
    "\n",
    "    f = globals()[function_name]\n",
    "    result = f(**arguments)\n",
    "\n",
    "    return {\n",
    "        \"type\": \"function_call_output\",\n",
    "        \"call_id\": tool_call_response.call_id,\n",
    "        \"output\": json.dumps(result, indent=2),\n",
    "    }\n",
    "\n",
    "\n",
    "developer_prompt = \"\"\"\n",
    "You're a weather presenter. \n",
    "You're given a question from a viewer and your task is to answer it.\n",
    "\n",
    "Use FAQ if your own knowledge is not sufficient to answer the question.\n",
    "When using FAQ, perform deep topic exploration: make one request to FAQ,\n",
    "and then based on the results, make more requests.\n",
    "\n",
    "At the end of each response, ask the user a follow up question based on your answer.\n",
    "\"\"\".strip()\n",
    "\n",
    "chat_messages = [\n",
    "    {\"role\": \"developer\", \"content\": developer_prompt},\n",
    "]\n",
    "\n",
    "\n",
    "\n",
    "\n",
    "while True: # main Q&A loop\n",
    "    question = input() # How do I do my best for module 1?\n",
    "    if question == 'stop':\n",
    "        break\n",
    "\n",
    "    message = {\"role\": \"user\", \"content\": question}\n",
    "    chat_messages.append(message)\n",
    "\n",
    "    while True: # request-response loop - query API till get a message\n",
    "        response = client.responses.create(\n",
    "            model='gpt-4o-mini',\n",
    "            input=chat_messages,\n",
    "            tools=tools\n",
    "        )\n",
    "\n",
    "        has_messages = False\n",
    "        \n",
    "        for entry in response.output:\n",
    "            chat_messages.append(entry)\n",
    "        \n",
    "            if entry.type == 'function_call':      \n",
    "                print('function_call:', entry)\n",
    "                print()\n",
    "                result = do_call(entry)\n",
    "                chat_messages.append(result)\n",
    "            elif entry.type == 'message':\n",
    "                print(entry.content[0].text)\n",
    "                print()\n",
    "                has_messages = True\n",
    "\n",
    "        if has_messages:\n",
    "            break\n",
    "\n"
   ]
  },
  {
   "cell_type": "markdown",
   "id": "fb2daeba-194f-427d-a788-28ba9ed10cb7",
   "metadata": {},
   "source": [
    "## Q2"
   ]
  },
  {
   "cell_type": "code",
   "execution_count": 27,
   "id": "417d2647-8bc7-4476-8c0d-a18e1f067fe1",
   "metadata": {},
   "outputs": [
    {
     "name": "stdin",
     "output_type": "stream",
     "text": [
      " What is temperature in Passau?\n"
     ]
    },
    {
     "name": "stdout",
     "output_type": "stream",
     "text": [
      "function_call: ResponseFunctionToolCall(arguments='{\"city\":\"Passau\"}', call_id='call_tynRvdr0sFCmMDt7BOUPPZyZ', name='get_weather', type='function_call', id='fc_68796dbe6f2c81a09dc73121b0e3611407c740aad782b0fe', status='completed')\n",
      "\n",
      "The current temperature in Passau is about 16.3°C. \n",
      "\n",
      "If you'd like to know more about the weather forecast or any specific activities in Passau, just let me know! What else can I help you with today?\n",
      "\n"
     ]
    },
    {
     "name": "stdin",
     "output_type": "stream",
     "text": [
      " set temperature 33 for Passau\n"
     ]
    },
    {
     "name": "stdout",
     "output_type": "stream",
     "text": [
      "function_call: ResponseFunctionToolCall(arguments='{\"city\":\"Passau\",\"temp\":33}', call_id='call_KXgN1ZX8TQOgr2B8YbawVKxg', name='set_weather', type='function_call', id='fc_68796dd12c3081a0b3f003bcfe52077707c740aad782b0fe', status='completed')\n",
      "\n",
      "The temperature in Passau has been set to 33 degrees. If you have any other requests or need further information, just let me know!\n",
      "\n",
      "Is there anything else you'd like to know about the weather or another topic?\n",
      "\n"
     ]
    },
    {
     "name": "stdin",
     "output_type": "stream",
     "text": [
      " What is temperature in Passau?\n"
     ]
    },
    {
     "name": "stdout",
     "output_type": "stream",
     "text": [
      "function_call: ResponseFunctionToolCall(arguments='{\"city\":\"Passau\"}', call_id='call_JzlqAoFJJuCBunOX7TsWQZP5', name='get_weather', type='function_call', id='fc_68796dd87fdc81a09ac3379b7c5b1df407c740aad782b0fe', status='completed')\n",
      "\n",
      "The current temperature in Passau is now 33 degrees, as you requested.\n",
      "\n",
      "If you have more questions or need information about another location, feel free to ask!\n",
      "\n"
     ]
    },
    {
     "name": "stdin",
     "output_type": "stream",
     "text": [
      " Set temperature 0 to Munich and answer which temperature is in Munich?\n"
     ]
    },
    {
     "name": "stdout",
     "output_type": "stream",
     "text": [
      "function_call: ResponseFunctionToolCall(arguments='{\"city\":\"Munich\",\"temp\":0}', call_id='call_Vfvfl1KwJ1kD7Bk2RI0Bovun', name='set_weather', type='function_call', id='fc_68796e0a83b481a0982e228c1bbffa0407c740aad782b0fe', status='completed')\n",
      "\n",
      "function_call: ResponseFunctionToolCall(arguments='{\"city\":\"Munich\"}', call_id='call_SxySqR2K1HnuaAbAqLeQcM6Y', name='get_weather', type='function_call', id='fc_68796e0ad9a481a08785db4efa4a677407c740aad782b0fe', status='completed')\n",
      "\n",
      "The temperature in Munich has been set to 0 degrees, and it is currently 0 degrees.\n",
      "\n",
      "If you have any more questions or need information about other locations, just let me know! What else can I assist you with?\n",
      "\n"
     ]
    },
    {
     "name": "stdin",
     "output_type": "stream",
     "text": [
      " stop\n"
     ]
    }
   ],
   "source": [
    "def set_weather(city: str, temp: float) -> None:\n",
    "    city = city.strip().lower()\n",
    "    known_weather_data[city] = temp\n",
    "    return 'OK'\n",
    "\n",
    "\n",
    "set_weather_tool = {\n",
    "    \"type\": \"function\",\n",
    "    \"name\": \"set_weather\",\n",
    "    \"description\": \"Set weather data.\",\n",
    "    \"parameters\": {\n",
    "        \"type\": \"object\",\n",
    "        \"properties\": {\n",
    "            \"city\": {\n",
    "                \"type\": \"string\",\n",
    "                \"description\": \"The city where the weather is set.\"\n",
    "            },\n",
    "            \"temp\": {\n",
    "                \"type\": \"number\",\n",
    "                \"description\": \"The temperature that defines the weather.\"\n",
    "            },\n",
    "        },\n",
    "        \"required\": [\"city\", \"temp\"],\n",
    "        \"additionalProperties\": False\n",
    "    }\n",
    "}\n",
    "\n",
    "tools = [get_weather_tool, set_weather_tool]\n",
    "\n",
    "while True: # main Q&A loop\n",
    "    question = input() # How do I do my best for module 1?\n",
    "    if question == 'stop':\n",
    "        break\n",
    "\n",
    "    message = {\"role\": \"user\", \"content\": question}\n",
    "    chat_messages.append(message)\n",
    "\n",
    "    while True: # request-response loop - query API till get a message\n",
    "        response = client.responses.create(\n",
    "            model='gpt-4o-mini',\n",
    "            input=chat_messages,\n",
    "            tools=tools\n",
    "        )\n",
    "\n",
    "        has_messages = False\n",
    "        \n",
    "        for entry in response.output:\n",
    "            chat_messages.append(entry)\n",
    "        \n",
    "            if entry.type == 'function_call':      \n",
    "                print('function_call:', entry)\n",
    "                print()\n",
    "                result = do_call(entry)\n",
    "                chat_messages.append(result)\n",
    "            elif entry.type == 'message':\n",
    "                print(entry.content[0].text)\n",
    "                print()\n",
    "                has_messages = True\n",
    "\n",
    "        if has_messages:\n",
    "            break\n"
   ]
  },
  {
   "cell_type": "code",
   "execution_count": 28,
   "id": "42d6f9a8-d99a-4ed4-802a-c5c467e7bbda",
   "metadata": {},
   "outputs": [
    {
     "data": {
      "text/plain": [
       "{'berlin': 20.0, 'dresden': -10.0, 'passau': 33, 'munich': 0}"
      ]
     },
     "execution_count": 28,
     "metadata": {},
     "output_type": "execute_result"
    }
   ],
   "source": [
    "known_weather_data"
   ]
  },
  {
   "cell_type": "markdown",
   "id": "9a1b96e6-9d9c-4819-8562-c1f805936205",
   "metadata": {},
   "source": [
    "## Q3, Q4, Q5, Q6"
   ]
  },
  {
   "cell_type": "code",
   "execution_count": null,
   "id": "a95503f0-6c3a-4f27-8bb9-934e1043d806",
   "metadata": {},
   "outputs": [],
   "source": [
    "see fast_mcp_client.py and fast_mcp_demo.py  files"
   ]
  }
 ],
 "metadata": {
  "kernelspec": {
   "display_name": "Python 3 (ipykernel)",
   "language": "python",
   "name": "python3"
  },
  "language_info": {
   "codemirror_mode": {
    "name": "ipython",
    "version": 3
   },
   "file_extension": ".py",
   "mimetype": "text/x-python",
   "name": "python",
   "nbconvert_exporter": "python",
   "pygments_lexer": "ipython3",
   "version": "3.12.1"
  }
 },
 "nbformat": 4,
 "nbformat_minor": 5
}
